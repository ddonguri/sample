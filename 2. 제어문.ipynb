{
 "cells": [
  {
   "cell_type": "code",
   "execution_count": 1,
   "metadata": {},
   "outputs": [],
   "source": [
    "x = 10"
   ]
  },
  {
   "cell_type": "code",
   "execution_count": 2,
   "metadata": {},
   "outputs": [
    {
     "name": "stdout",
     "output_type": "stream",
     "text": [
      "x는 10입니다.\n"
     ]
    }
   ],
   "source": [
    "if x == 10:\n",
    "    print(\"x는 10입니다.\")"
   ]
  },
  {
   "cell_type": "code",
   "execution_count": 4,
   "metadata": {},
   "outputs": [],
   "source": [
    "if x != 10:\n",
    "    print(\"x는 10이 아닙니다.\") # x=10이기 때문에 실행 안됨"
   ]
  },
  {
   "cell_type": "code",
   "execution_count": 5,
   "metadata": {},
   "outputs": [],
   "source": [
    "if x==10:\n",
    "    pass # 나중에 설정할거니까 일단 넘어가 이게 패스(아무것도 안쓰면 오류)"
   ]
  },
  {
   "cell_type": "code",
   "execution_count": 6,
   "metadata": {},
   "outputs": [
    {
     "name": "stdout",
     "output_type": "stream",
     "text": [
      "x는 3보다 크고 20보다 작습니다.\n"
     ]
    }
   ],
   "source": [
    "if x>3 and x< 20:\n",
    "    print('x는 3보다 크고 20보다 작습니다.')"
   ]
  },
  {
   "cell_type": "code",
   "execution_count": 7,
   "metadata": {},
   "outputs": [
    {
     "name": "stdout",
     "output_type": "stream",
     "text": [
      "x는 3보다 큽니다.\n"
     ]
    }
   ],
   "source": [
    "if x>3: #True\n",
    "    print('x는 3보다 큽니다.')\n",
    "    if x>10: #False\n",
    "        print('x는 10보다 크거나 같습니다.')\n",
    "        if x<20: \n",
    "            print('x는 20보다 작습니다.')"
   ]
  },
  {
   "cell_type": "code",
   "execution_count": 8,
   "metadata": {},
   "outputs": [
    {
     "name": "stdout",
     "output_type": "stream",
     "text": [
      "x는 3보다 큽니다.\n",
      "x는 10보다 크거나 같습니다.\n",
      "x는 20보다 작습니다.\n"
     ]
    }
   ],
   "source": [
    "if x>3: #True\n",
    "    print('x는 3보다 큽니다.')\n",
    "    if x>=10: #True\n",
    "        print('x는 10보다 크거나 같습니다.')\n",
    "        if x<20: #True\n",
    "            print('x는 20보다 작습니다.')"
   ]
  },
  {
   "cell_type": "code",
   "execution_count": 10,
   "metadata": {},
   "outputs": [],
   "source": [
    "x=3"
   ]
  },
  {
   "cell_type": "code",
   "execution_count": 11,
   "metadata": {},
   "outputs": [
    {
     "name": "stdout",
     "output_type": "stream",
     "text": [
      "x는 5보다 작거나 같습니다.\n"
     ]
    }
   ],
   "source": [
    "if x>5:\n",
    "    print(\"x는 5보다 큽니다.\")\n",
    "else:\n",
    "    print(\"x는 5보다 작거나 같습니다.\")"
   ]
  },
  {
   "cell_type": "code",
   "execution_count": 13,
   "metadata": {},
   "outputs": [
    {
     "name": "stdout",
     "output_type": "stream",
     "text": [
      "x는 2보다 큽니다.\n"
     ]
    }
   ],
   "source": [
    "if x>5:\n",
    "    print(\"x는 5보다 큽니다.\")\n",
    "elif x>2:\n",
    "    print(\"x는 2보다 큽니다.\")\n",
    "elif x>0:\n",
    "    print(\"x는 0보다 큽니다.\")\n",
    "else:\n",
    "    print(\"x는 음수입니다.\")"
   ]
  },
  {
   "cell_type": "code",
   "execution_count": 14,
   "metadata": {},
   "outputs": [
    {
     "name": "stdout",
     "output_type": "stream",
     "text": [
      "x는 0보다 큽니다.\n"
     ]
    }
   ],
   "source": [
    "if x>0:\n",
    "    print(\"x는 0보다 큽니다.\")\n",
    "elif x>3:\n",
    "    print(\"x는 3보다 큽니다.\")\n",
    "elif x>8:\n",
    "    print(\"x는 8보다 큽니다.\")\n",
    "else:\n",
    "    print(\"x는 음수입니다.\")"
   ]
  },
  {
   "cell_type": "code",
   "execution_count": 15,
   "metadata": {},
   "outputs": [
    {
     "name": "stdout",
     "output_type": "stream",
     "text": [
      "x는 0보다 큽니다.\n"
     ]
    }
   ],
   "source": [
    "if x>0:\n",
    "    print(\"x는 0보다 큽니다.\")\n",
    "else:\n",
    "    print(\"x는 음수입니다.\")"
   ]
  },
  {
   "cell_type": "markdown",
   "metadata": {},
   "source": [
    "# 연습문제1"
   ]
  },
  {
   "cell_type": "code",
   "execution_count": 29,
   "metadata": {},
   "outputs": [
    {
     "name": "stdout",
     "output_type": "stream",
     "text": [
      "점수를 입력하세요 80\n",
      "점수를 입력하세요 60\n",
      "점수를 입력하세요 70\n",
      "불합격\n"
     ]
    }
   ],
   "source": [
    "a = input('점수를 입력하세요 ')\n",
    "b = input('점수를 입력하세요 ')\n",
    "c = input('점수를 입력하세요 ')\n",
    "\n",
    "x = int(a)\n",
    "y = int(b)\n",
    "z = int(c)\n",
    "\n",
    "if 65<x<=100 and 65<y<=100 and 65<z<=100:\n",
    "    print(\"합격\")\n",
    "elif x not in range(101) or y not in range(101) or z not in range(101):\n",
    "    print(\"잘못된 점수\")\n",
    "else:\n",
    "    print(\"불합격\")"
   ]
  },
  {
   "cell_type": "code",
   "execution_count": 31,
   "metadata": {},
   "outputs": [
    {
     "name": "stdout",
     "output_type": "stream",
     "text": [
      "점수를 입력하세요 80\n",
      "점수를 입력하세요 100\n",
      "점수를 입력하세요 101\n",
      "잘못된 점수가 입력되었습니다.\n"
     ]
    }
   ],
   "source": [
    "a = input('점수를 입력하세요 ')\n",
    "b = input('점수를 입력하세요 ')\n",
    "c = input('점수를 입력하세요 ')\n",
    "\n",
    "a,b,c = map(int, [a,b,c]) \n",
    "if a not in range(101) or b not in range(101) or c not in range(101):\n",
    "    print(\"잘못된 점수가 입력되었습니다.\")\n",
    "elif 65<a and 65<b and 65<c:\n",
    "    print(\"합격\")\n",
    "else:\n",
    "    print(\"불합격\")"
   ]
  },
  {
   "cell_type": "markdown",
   "metadata": {},
   "source": [
    "# 연습문제2"
   ]
  },
  {
   "cell_type": "code",
   "execution_count": 43,
   "metadata": {},
   "outputs": [
    {
     "name": "stdout",
     "output_type": "stream",
     "text": [
      "정수를 입력해주세요: 10\n",
      "입력하신 숫자(10)는 짝수입니다.\n"
     ]
    }
   ],
   "source": [
    "x = int(input('정수를 입력해주세요: '))\n",
    "\n",
    "if x%2==1:\n",
    "    print('입력하신 %s는 홀수입니다.' %x)\n",
    "else:\n",
    "    print('입력하신 숫자(%s)는 짝수입니다.' %x)"
   ]
  },
  {
   "cell_type": "markdown",
   "metadata": {},
   "source": [
    "# for문"
   ]
  },
  {
   "cell_type": "code",
   "execution_count": 46,
   "metadata": {},
   "outputs": [
    {
     "name": "stdout",
     "output_type": "stream",
     "text": [
      "0\n",
      "1\n",
      "2\n",
      "3\n",
      "4\n",
      "5\n",
      "6\n",
      "7\n",
      "8\n",
      "9\n"
     ]
    }
   ],
   "source": [
    "for i in range(10):\n",
    "    print(i)"
   ]
  },
  {
   "cell_type": "code",
   "execution_count": 47,
   "metadata": {},
   "outputs": [
    {
     "name": "stdout",
     "output_type": "stream",
     "text": [
      "a\n",
      "b\n",
      "c\n"
     ]
    }
   ],
   "source": [
    "for i in ['a','b','c']:\n",
    "    print(i)"
   ]
  },
  {
   "cell_type": "code",
   "execution_count": 50,
   "metadata": {},
   "outputs": [],
   "source": [
    "profile={\n",
    "    'name':'남자',\n",
    "    'height':183,\n",
    "    'city':'Seoul'\n",
    "}"
   ]
  },
  {
   "cell_type": "code",
   "execution_count": 51,
   "metadata": {},
   "outputs": [
    {
     "name": "stdout",
     "output_type": "stream",
     "text": [
      "name\n",
      "height\n",
      "city\n"
     ]
    }
   ],
   "source": [
    "for i in profile:\n",
    "    print(i) # key가 쓰임"
   ]
  },
  {
   "cell_type": "code",
   "execution_count": 52,
   "metadata": {},
   "outputs": [
    {
     "name": "stdout",
     "output_type": "stream",
     "text": [
      "O\n",
      "r\n",
      "a\n",
      "n\n",
      "g\n",
      "e\n"
     ]
    }
   ],
   "source": [
    "for i in 'Orange':\n",
    "    print(i)"
   ]
  },
  {
   "cell_type": "markdown",
   "metadata": {},
   "source": [
    "# 연습문제1"
   ]
  },
  {
   "cell_type": "code",
   "execution_count": 60,
   "metadata": {},
   "outputs": [
    {
     "name": "stdout",
     "output_type": "stream",
     "text": [
      "정수를 입력해주세요: 5\n",
      "안녕\n",
      "안녕\n",
      "안녕\n",
      "안녕\n",
      "안녕\n"
     ]
    }
   ],
   "source": [
    "a = int(input('정수를 입력해주세요: '))\n",
    "\n",
    "for i in range(a):\n",
    "    print('안녕')"
   ]
  },
  {
   "cell_type": "code",
   "execution_count": 2,
   "metadata": {},
   "outputs": [
    {
     "name": "stdout",
     "output_type": "stream",
     "text": [
      "정수를 입력해주세요: 5\n",
      "*\n",
      "**\n",
      "***\n",
      "****\n",
      "*****\n",
      "*****\n",
      "****\n",
      "***\n",
      "**\n",
      "*\n"
     ]
    }
   ],
   "source": [
    "a = int(input('정수를 입력해주세요: '))\n",
    "\n",
    "for i in range(a):\n",
    "    print((1+i)*'*')\n",
    "    \n",
    "for i in range(a):\n",
    "    print((a-i)*'*')"
   ]
  },
  {
   "cell_type": "code",
   "execution_count": 8,
   "metadata": {},
   "outputs": [
    {
     "name": "stdout",
     "output_type": "stream",
     "text": [
      "정수를 입력해주세요: 3\n",
      "******\n",
      "**  **\n",
      "*    *\n"
     ]
    }
   ],
   "source": [
    "a = int(input('정수를 입력해주세요: '))\n",
    "\n",
    "for i in range(a):\n",
    "    print((a-i)*'*' + 2*i*' ' + (int(a-i))*'*')"
   ]
  },
  {
   "cell_type": "markdown",
   "metadata": {},
   "source": [
    "# for문 중첩"
   ]
  },
  {
   "cell_type": "code",
   "execution_count": 9,
   "metadata": {},
   "outputs": [
    {
     "name": "stdout",
     "output_type": "stream",
     "text": [
      "i:  0\n",
      "j:  0\n",
      "j:  1\n",
      "j:  2\n",
      "j:  3\n",
      "j:  4\n",
      "----------\n",
      "i:  1\n",
      "j:  0\n",
      "j:  1\n",
      "j:  2\n",
      "j:  3\n",
      "j:  4\n",
      "----------\n",
      "i:  2\n",
      "j:  0\n",
      "j:  1\n",
      "j:  2\n",
      "j:  3\n",
      "j:  4\n",
      "----------\n",
      "i:  3\n",
      "j:  0\n",
      "j:  1\n",
      "j:  2\n",
      "j:  3\n",
      "j:  4\n",
      "----------\n",
      "i:  4\n",
      "j:  0\n",
      "j:  1\n",
      "j:  2\n",
      "j:  3\n",
      "j:  4\n",
      "----------\n"
     ]
    }
   ],
   "source": [
    "for i in range(5):\n",
    "    print(\"i: \",i)\n",
    "    for j in range(5):\n",
    "        print(\"j: \",j)\n",
    "    print(\"-\"*10)"
   ]
  },
  {
   "cell_type": "code",
   "execution_count": 11,
   "metadata": {},
   "outputs": [
    {
     "name": "stdout",
     "output_type": "stream",
     "text": [
      "(0, 'a')\n",
      "(1, 'b')\n",
      "(2, 'c')\n",
      "(3, 'd')\n"
     ]
    }
   ],
   "source": [
    "l1 = ['a', 'b', 'c', 'd']\n",
    "\n",
    "for i in enumerate(l1):\n",
    "    print(i)\n",
    "    "
   ]
  },
  {
   "cell_type": "code",
   "execution_count": 12,
   "metadata": {},
   "outputs": [
    {
     "name": "stdout",
     "output_type": "stream",
     "text": [
      "10\n",
      "20\n"
     ]
    }
   ],
   "source": [
    "a,b = (10,20)\n",
    "print(a)\n",
    "print(b)"
   ]
  },
  {
   "cell_type": "code",
   "execution_count": 14,
   "metadata": {},
   "outputs": [
    {
     "name": "stdout",
     "output_type": "stream",
     "text": [
      "0 a\n",
      "1 b\n",
      "2 c\n",
      "3 d\n"
     ]
    }
   ],
   "source": [
    "l1 = ['a', 'b', 'c', 'd']\n",
    "\n",
    "for idx, value in enumerate(l1):\n",
    "    print(idx, value)"
   ]
  },
  {
   "cell_type": "code",
   "execution_count": 19,
   "metadata": {},
   "outputs": [
    {
     "name": "stdout",
     "output_type": "stream",
     "text": [
      "['a', 'b', 0, 0]\n"
     ]
    }
   ],
   "source": [
    "for idx, value in enumerate(l1):\n",
    "    if idx>=2:\n",
    "        l1[idx]=0\n",
    "print(l1)"
   ]
  },
  {
   "cell_type": "markdown",
   "metadata": {},
   "source": [
    "# 연습문제2"
   ]
  },
  {
   "cell_type": "code",
   "execution_count": 63,
   "metadata": {},
   "outputs": [
    {
     "name": "stdout",
     "output_type": "stream",
     "text": [
      "30\n",
      "60\n",
      "90\n",
      "200\n",
      "-70\n",
      "50\n"
     ]
    }
   ],
   "source": [
    "x = [3,6,9,20,-7,5]\n",
    "\n",
    "for a in x:\n",
    "    print(a*10)\n"
   ]
  },
  {
   "cell_type": "code",
   "execution_count": 59,
   "metadata": {},
   "outputs": [
    {
     "name": "stdout",
     "output_type": "stream",
     "text": [
      "80\n",
      "90\n",
      "30\n"
     ]
    }
   ],
   "source": [
    "y = {\"math\":70, \"science\":80, \"english\":20}\n",
    "\n",
    "for b in dict.values(y):\n",
    "    print(b+10)"
   ]
  },
  {
   "cell_type": "code",
   "execution_count": 48,
   "metadata": {
    "scrolled": true
   },
   "outputs": [
    {
     "name": "stdout",
     "output_type": "stream",
     "text": [
      "정수를 입력해주세요: 5\n",
      "5 * 1 = 5\n",
      "5 * 2 = 10\n",
      "5 * 3 = 15\n",
      "5 * 4 = 20\n",
      "5 * 5 = 25\n",
      "5 * 6 = 30\n",
      "5 * 7 = 35\n",
      "5 * 8 = 40\n",
      "5 * 9 = 45\n"
     ]
    }
   ],
   "source": [
    "num = int(input('정수를 입력해주세요: '))\n",
    "\n",
    "for m in range(9):\n",
    "    print(num,'*',m+1,'=',num*(m+1))"
   ]
  },
  {
   "cell_type": "markdown",
   "metadata": {},
   "source": [
    "# 연습문제6"
   ]
  },
  {
   "cell_type": "code",
   "execution_count": 84,
   "metadata": {},
   "outputs": [
    {
     "name": "stdout",
     "output_type": "stream",
     "text": [
      "가위(1), 바위(2), 보(3)를 입력해주세요!: 3\n",
      "유저: 보, 컴퓨터: 가위\n",
      "가위(1), 바위(2), 보(3)를 입력해주세요!: 2\n",
      "유저: 바위, 컴퓨터: 바위\n",
      "가위(1), 바위(2), 보(3)를 입력해주세요!: 4\n",
      "게임종료(전체: 2, 승리: 0, 비김: 1)\n"
     ]
    }
   ],
   "source": [
    "import random\n",
    "\n",
    "user = int(input(\"가위(1), 바위(2), 보(3)를 입력해주세요!: \"))\n",
    "com = random.randint(1,3)\n",
    "\n",
    "rsp_list = [None, \"가위\", \"바위\", \"보\"]\n",
    "\n",
    "total = 0\n",
    "win = 0 \n",
    "draw = 0\n",
    "\n",
    "while user in [1,2,3]:\n",
    "    user = int(user)\n",
    "    print(\"유저: {}, 컴퓨터: {}\" .format(rsp_list[user], rsp_list[com]))\n",
    "    \n",
    "    # 비긴 경우\n",
    "    if user == com:\n",
    "        draw += 1\n",
    "    # 이긴 경우\n",
    "    elif (user == 1 and com == 3) or (user ==2 and com ==1) or (user == 3 and com ==2):\n",
    "        win +=1\n",
    "    total += 1\n",
    "    \n",
    "    user = int(input(\"가위(1), 바위(2), 보(3)를 입력해주세요!: \"))\n",
    "    com = random.randint(1,3)\n",
    "print(\"게임종료(전체: {}, 승리: {}, 비김: {})\".format(total, win, draw))"
   ]
  },
  {
   "cell_type": "markdown",
   "metadata": {},
   "source": [
    "# Break, Continue"
   ]
  },
  {
   "cell_type": "code",
   "execution_count": 66,
   "metadata": {},
   "outputs": [
    {
     "name": "stdout",
     "output_type": "stream",
     "text": [
      "0\n",
      "1\n",
      "2\n"
     ]
    }
   ],
   "source": [
    "for i in range(5):\n",
    "    if i == 3:\n",
    "        break\n",
    "    print(i)"
   ]
  },
  {
   "cell_type": "code",
   "execution_count": 67,
   "metadata": {},
   "outputs": [
    {
     "name": "stdout",
     "output_type": "stream",
     "text": [
      "0\n",
      "1\n",
      "2\n",
      "3\n",
      "4\n",
      "5\n",
      "9\n"
     ]
    }
   ],
   "source": [
    "for i in range(10):\n",
    "    if 5<i<=8:\n",
    "        continue # 뒤에 있는 코드를 실행시키지 않고 다시 조건절로\n",
    "    print(i)"
   ]
  },
  {
   "cell_type": "code",
   "execution_count": 69,
   "metadata": {},
   "outputs": [
    {
     "name": "stdout",
     "output_type": "stream",
     "text": [
      "Hello\n",
      "s입력시 멈춥니다.S\n"
     ]
    }
   ],
   "source": [
    "# Loop\n",
    "while True:\n",
    "    print(\"Hello\")\n",
    "    num = input('s입력시 멈춥니다.')\n",
    "    if num.lower() == 's':\n",
    "        break"
   ]
  },
  {
   "cell_type": "markdown",
   "metadata": {},
   "source": [
    "# 연습문제11"
   ]
  },
  {
   "cell_type": "code",
   "execution_count": 81,
   "metadata": {
    "scrolled": true
   },
   "outputs": [
    {
     "name": "stdout",
     "output_type": "stream",
     "text": [
      "숫자: 3\n",
      "hi\n",
      "hi\n",
      "hi\n"
     ]
    }
   ],
   "source": [
    "num = int(input(\"숫자: \"))\n",
    "count = 0\n",
    "\n",
    "while count<num:\n",
    "        print(\"hi\")\n",
    "    else:\n",
    "        break\n",
    "    count += 1"
   ]
  },
  {
   "cell_type": "code",
   "execution_count": 83,
   "metadata": {},
   "outputs": [
    {
     "name": "stdout",
     "output_type": "stream",
     "text": [
      "숫자: 7\n",
      "0\n",
      "2\n",
      "4\n",
      "6\n"
     ]
    }
   ],
   "source": [
    "num = int(input(\"숫자: \"))\n",
    "\n",
    "for n in range(num):\n",
    "    if n%2 == 1:\n",
    "        continue\n",
    "    print(n)"
   ]
  },
  {
   "cell_type": "markdown",
   "metadata": {},
   "source": [
    "# 연습문제7"
   ]
  },
  {
   "cell_type": "code",
   "execution_count": 4,
   "metadata": {},
   "outputs": [
    {
     "name": "stdout",
     "output_type": "stream",
     "text": [
      "991\n"
     ]
    }
   ],
   "source": [
    "import random\n",
    "\n",
    "new_list = []\n",
    "max_num = 0\n",
    "\n",
    "for i in range(100):\n",
    "    ran_num = random.randint(1,1000)\n",
    "    new_list.append(ran_num)\n",
    "    \n",
    "    if max_num < ran_num:\n",
    "        max_num = ran_num\n",
    "        \n",
    "print(max_num)\n"
   ]
  },
  {
   "cell_type": "code",
   "execution_count": 6,
   "metadata": {},
   "outputs": [
    {
     "name": "stdout",
     "output_type": "stream",
     "text": [
      "47877\n"
     ]
    }
   ],
   "source": [
    "import random\n",
    "\n",
    "new_list = []\n",
    "sum_num = 0\n",
    "\n",
    "for i in range(100):\n",
    "    ran_num = random.randint(1,1000)\n",
    "    new_list.append(ran_num)\n",
    "    sum_num += ran_num\n",
    "        \n",
    "print(sum_num)\n"
   ]
  },
  {
   "cell_type": "markdown",
   "metadata": {},
   "source": [
    "# 리스트 컴프리핸션"
   ]
  },
  {
   "cell_type": "code",
   "execution_count": 7,
   "metadata": {},
   "outputs": [
    {
     "data": {
      "text/plain": [
       "[1, 2, 3, 4]"
      ]
     },
     "execution_count": 7,
     "metadata": {},
     "output_type": "execute_result"
    }
   ],
   "source": [
    "list(range(1,5))"
   ]
  },
  {
   "cell_type": "code",
   "execution_count": 8,
   "metadata": {},
   "outputs": [
    {
     "data": {
      "text/plain": [
       "[10, 20, 30, 40]"
      ]
     },
     "execution_count": 8,
     "metadata": {},
     "output_type": "execute_result"
    }
   ],
   "source": [
    "# 방법 1\n",
    "\n",
    "list(range(10,50,10)) "
   ]
  },
  {
   "cell_type": "code",
   "execution_count": 9,
   "metadata": {},
   "outputs": [
    {
     "data": {
      "text/plain": [
       "[10, 20, 30, 40]"
      ]
     },
     "execution_count": 9,
     "metadata": {},
     "output_type": "execute_result"
    }
   ],
   "source": [
    "# 방법 2\n",
    "\n",
    "new_list = []\n",
    "for i in range(1,5):\n",
    "    new_list.append(i*10)\n",
    "new_list"
   ]
  },
  {
   "cell_type": "code",
   "execution_count": 12,
   "metadata": {},
   "outputs": [
    {
     "data": {
      "text/plain": [
       "[10, 20, 30, 40]"
      ]
     },
     "execution_count": 12,
     "metadata": {},
     "output_type": "execute_result"
    }
   ],
   "source": [
    "# 방법 3\n",
    "\n",
    "new_list = [i*10 for i in range(1,5)]\n",
    "new_list"
   ]
  },
  {
   "cell_type": "code",
   "execution_count": 14,
   "metadata": {},
   "outputs": [
    {
     "name": "stdout",
     "output_type": "stream",
     "text": [
      "[3, 6, 9, 12, 15, 18, 21, 24, 27, 30, 33, 36, 39, 42, 45, 48, 51, 54, 57, 60, 63, 66, 69, 72, 75, 78, 81, 84, 87, 90, 93, 96, 99]\n"
     ]
    }
   ],
   "source": [
    "# 1부터 100까지의 숫자 중에서 3의 배수만 모아서 새로운 리스트를 만드시오.\n",
    "# 방법 1\n",
    "\n",
    "new_list = []\n",
    "for i in range(1,101):\n",
    "    if i%3 == 0:\n",
    "        new_list.append(i)\n",
    "print(new_list)"
   ]
  },
  {
   "cell_type": "code",
   "execution_count": 15,
   "metadata": {},
   "outputs": [
    {
     "name": "stdout",
     "output_type": "stream",
     "text": [
      "[3, 6, 9, 12, 15, 18, 21, 24, 27, 30, 33, 36, 39, 42, 45, 48, 51, 54, 57, 60, 63, 66, 69, 72, 75, 78, 81, 84, 87, 90, 93, 96, 99]\n"
     ]
    }
   ],
   "source": [
    "# 방법 2\n",
    "\n",
    "new_list = [i for i in range(1,101) if i%3==0]\n",
    "print(new_list)"
   ]
  },
  {
   "cell_type": "code",
   "execution_count": 16,
   "metadata": {},
   "outputs": [
    {
     "name": "stdout",
     "output_type": "stream",
     "text": [
      "100\n",
      "[1, 2, 3, 4, 5, 6, 7, 8, 9, 10, 2, 4, 6, 8, 10, 12, 14, 16, 18, 20, 3, 6, 9, 12, 15, 18, 21, 24, 27, 30, 4, 8, 12, 16, 20, 24, 28, 32, 36, 40, 5, 10, 15, 20, 25, 30, 35, 40, 45, 50, 6, 12, 18, 24, 30, 36, 42, 48, 54, 60, 7, 14, 21, 28, 35, 42, 49, 56, 63, 70, 8, 16, 24, 32, 40, 48, 56, 64, 72, 80, 9, 18, 27, 36, 45, 54, 63, 72, 81, 90, 10, 20, 30, 40, 50, 60, 70, 80, 90, 100]\n"
     ]
    }
   ],
   "source": [
    "new_list = [i*j for i in range(1,11) for j in range(1,11)]\n",
    "print(len(new_list))\n",
    "print(new_list)"
   ]
  },
  {
   "cell_type": "code",
   "execution_count": 20,
   "metadata": {},
   "outputs": [
    {
     "name": "stdout",
     "output_type": "stream",
     "text": [
      "{'city': 'Seoul', 'name': '사람', 'height': 180}\n"
     ]
    }
   ],
   "source": [
    "keys = ['city', 'name', 'height']\n",
    "values = ['Seoul', '사람', 180]\n",
    "\n",
    "new_dict = {keys[i]: values[i] for i in range(len(keys))}\n",
    "print(new_dict)"
   ]
  },
  {
   "cell_type": "markdown",
   "metadata": {},
   "source": [
    "# zip"
   ]
  },
  {
   "cell_type": "code",
   "execution_count": 21,
   "metadata": {},
   "outputs": [
    {
     "name": "stdout",
     "output_type": "stream",
     "text": [
      "city Seoul\n",
      "name 사람\n",
      "height 180\n"
     ]
    }
   ],
   "source": [
    "for i in range(len(keys)):\n",
    "    k = keys[i]\n",
    "    v = values[i]\n",
    "    print(k,v)"
   ]
  },
  {
   "cell_type": "code",
   "execution_count": 22,
   "metadata": {},
   "outputs": [
    {
     "data": {
      "text/plain": [
       "[('city', 'Seoul'), ('name', '사람'), ('height', 180)]"
      ]
     },
     "execution_count": 22,
     "metadata": {},
     "output_type": "execute_result"
    }
   ],
   "source": [
    "list(zip(keys, values))"
   ]
  },
  {
   "cell_type": "code",
   "execution_count": 23,
   "metadata": {},
   "outputs": [
    {
     "name": "stdout",
     "output_type": "stream",
     "text": [
      "city Seoul\n",
      "name 사람\n",
      "height 180\n"
     ]
    }
   ],
   "source": [
    "for k,v in zip(keys, values):\n",
    "    print(k,v)"
   ]
  },
  {
   "cell_type": "code",
   "execution_count": 26,
   "metadata": {},
   "outputs": [
    {
     "data": {
      "text/plain": [
       "{'city': 'Seoul', 'name': '사람', 'height': 180}"
      ]
     },
     "execution_count": 26,
     "metadata": {},
     "output_type": "execute_result"
    }
   ],
   "source": [
    "dict(zip(keys, values))"
   ]
  },
  {
   "cell_type": "markdown",
   "metadata": {},
   "source": [
    "# 연습문제9"
   ]
  },
  {
   "cell_type": "code",
   "execution_count": 31,
   "metadata": {},
   "outputs": [
    {
     "name": "stdout",
     "output_type": "stream",
     "text": [
      "['school', 'science', 'mountain']\n"
     ]
    }
   ],
   "source": [
    "# 방법1\n",
    "word = ['school', 'game', 'piano', 'science', 'hotel', 'mountain']\n",
    "new_word =[]\n",
    "\n",
    "for i in word:\n",
    "    if len(i)>=6:\n",
    "        new_word.append(i)\n",
    "print(new_word)"
   ]
  },
  {
   "cell_type": "code",
   "execution_count": 32,
   "metadata": {},
   "outputs": [
    {
     "name": "stdout",
     "output_type": "stream",
     "text": [
      "['school', 'science', 'mountain']\n"
     ]
    }
   ],
   "source": [
    "# 방법2\n",
    "word = ['school', 'game', 'piano', 'science', 'hotel', 'mountain']\n",
    "\n",
    "new_word = [i for i in word if len(i)>=6]\n",
    "print(new_word)"
   ]
  },
  {
   "cell_type": "code",
   "execution_count": 47,
   "metadata": {},
   "outputs": [
    {
     "name": "stdout",
     "output_type": "stream",
     "text": [
      "[6, 4, 5, 7, 5, 8]\n"
     ]
    }
   ],
   "source": [
    "# 방법1\n",
    "word = ['school', 'game', 'piano', 'science', 'hotel', 'mountain']\n",
    "new_word = []\n",
    "\n",
    "for i in word:\n",
    "    num = len(i)\n",
    "    new_word.append(num)\n",
    "print(new_word)"
   ]
  },
  {
   "cell_type": "code",
   "execution_count": 45,
   "metadata": {},
   "outputs": [
    {
     "name": "stdout",
     "output_type": "stream",
     "text": [
      "[6, 4, 5, 7, 5, 8]\n"
     ]
    }
   ],
   "source": [
    "# 방법2\n",
    "word = ['school', 'game', 'piano', 'science', 'hotel', 'mountain']\n",
    "\n",
    "new_word = [len(i) for i in word]\n",
    "print(new_word)"
   ]
  },
  {
   "cell_type": "markdown",
   "metadata": {},
   "source": [
    "# 연습문제10"
   ]
  },
  {
   "cell_type": "code",
   "execution_count": 92,
   "metadata": {},
   "outputs": [
    {
     "data": {
      "text/plain": [
       "[20, 60, 120, 200, 300, 420]"
      ]
     },
     "execution_count": 92,
     "metadata": {},
     "output_type": "execute_result"
    }
   ],
   "source": [
    "a = [[10,20], [30,40], [50,60]]\n",
    "b = [[2,3], [4,5], [6,7]]\n",
    "\n",
    "c = [a[i][j]*b[i][j] for i in range(len(a)) for j in range(len(a[i]))]\n",
    "c"
   ]
  },
  {
   "cell_type": "code",
   "execution_count": 93,
   "metadata": {},
   "outputs": [
    {
     "data": {
      "text/plain": [
       "[[20, 60], [120, 200], [300, 420]]"
      ]
     },
     "execution_count": 93,
     "metadata": {},
     "output_type": "execute_result"
    }
   ],
   "source": [
    "a = [[10,20], [30,40], [50,60]]\n",
    "b = [[2,3], [4,5], [6,7]]\n",
    "\n",
    "new_list = []\n",
    "for i in range(len(a)):\n",
    "    in_list = []\n",
    "    for j in range(len(a[i])):\n",
    "        in_list.append(a[i][j]*b[i][j])\n",
    "    new_list.append(in_list)\n",
    "new_list"
   ]
  },
  {
   "cell_type": "markdown",
   "metadata": {},
   "source": [
    "# 연습문제11"
   ]
  },
  {
   "cell_type": "code",
   "execution_count": 3,
   "metadata": {},
   "outputs": [
    {
     "name": "stdout",
     "output_type": "stream",
     "text": [
      "[[1, 2], [3, 4], [5, 6]]\n"
     ]
    }
   ],
   "source": [
    "a = []\n",
    "\n",
    "for i in range(3):\n",
    "    line = []\n",
    "    for j in range(2):\n",
    "        line.append(i*2+j+1)\n",
    "    a.append(line)\n",
    "print(a)\n"
   ]
  },
  {
   "cell_type": "markdown",
   "metadata": {},
   "source": [
    "# 입출력"
   ]
  },
  {
   "cell_type": "code",
   "execution_count": 4,
   "metadata": {},
   "outputs": [],
   "source": [
    "file = open(\"sample.txt\", 'wt') # wt: write txt모드\n",
    "file.write(\"This is My First File\")\n",
    "file.close()"
   ]
  },
  {
   "cell_type": "code",
   "execution_count": 5,
   "metadata": {},
   "outputs": [
    {
     "data": {
      "text/plain": [
       "'This is My Second File'"
      ]
     },
     "execution_count": 5,
     "metadata": {},
     "output_type": "execute_result"
    }
   ],
   "source": [
    "file = open(\"sample.txt\", \"rt\") # rt: read txt 모드\n",
    "content = file.read()\n",
    "file.close() # 파일을 닫아줘야 속도가 안 느려짐\n",
    "content"
   ]
  },
  {
   "cell_type": "code",
   "execution_count": 6,
   "metadata": {},
   "outputs": [],
   "source": [
    "file = open(\"sample.txt\", 'wt') \n",
    "file.write(\"This is My New File\")\n",
    "file.close()"
   ]
  },
  {
   "cell_type": "code",
   "execution_count": 9,
   "metadata": {},
   "outputs": [],
   "source": [
    "file = open(\"sample.txt\", 'at') \n",
    "file.write(\"My Added Text\") # 창을 껐다 키면 추가됨\n",
    "file.close()"
   ]
  },
  {
   "cell_type": "code",
   "execution_count": 11,
   "metadata": {},
   "outputs": [],
   "source": [
    "file = open(\"sample2.txt\", 'xt') # 파일이 존재하면 오류가 남\n",
    "file.write(\"It is X mode\")\n",
    "file.close()"
   ]
  },
  {
   "cell_type": "code",
   "execution_count": 23,
   "metadata": {},
   "outputs": [],
   "source": [
    "file = open(\"sample.txt\", 'wt+') # wt인데 read 가능\n"
   ]
  },
  {
   "cell_type": "code",
   "execution_count": 24,
   "metadata": {},
   "outputs": [
    {
     "data": {
      "text/plain": [
       "10"
      ]
     },
     "execution_count": 24,
     "metadata": {},
     "output_type": "execute_result"
    }
   ],
   "source": [
    "file.write(\"My w+ Mode\") # 커서의 위치가 10"
   ]
  },
  {
   "cell_type": "code",
   "execution_count": 25,
   "metadata": {},
   "outputs": [],
   "source": [
    "file.seek(0) # 커서의 위치 = 0으로 옮겨\n",
    "file.read()\n",
    "file.close()"
   ]
  },
  {
   "cell_type": "code",
   "execution_count": 28,
   "metadata": {},
   "outputs": [
    {
     "data": {
      "text/plain": [
       "<_io.TextIOWrapper name='sample.txt' mode='rt+' encoding='cp949'>"
      ]
     },
     "execution_count": 28,
     "metadata": {},
     "output_type": "execute_result"
    }
   ],
   "source": [
    "file = open(\"sample.txt\", 'rt+') #rt인데 write 가능\n",
    "file"
   ]
  },
  {
   "cell_type": "code",
   "execution_count": 29,
   "metadata": {},
   "outputs": [
    {
     "data": {
      "text/plain": [
       "'My w+ Mode'"
      ]
     },
     "execution_count": 29,
     "metadata": {},
     "output_type": "execute_result"
    }
   ],
   "source": [
    "file.read()"
   ]
  },
  {
   "cell_type": "code",
   "execution_count": 30,
   "metadata": {},
   "outputs": [
    {
     "data": {
      "text/plain": [
       "10"
      ]
     },
     "execution_count": 30,
     "metadata": {},
     "output_type": "execute_result"
    }
   ],
   "source": [
    "file.tell()"
   ]
  },
  {
   "cell_type": "code",
   "execution_count": 31,
   "metadata": {},
   "outputs": [
    {
     "data": {
      "text/plain": [
       "5"
      ]
     },
     "execution_count": 31,
     "metadata": {},
     "output_type": "execute_result"
    }
   ],
   "source": [
    "file.seek(5)\n",
    "file.write(\"Added Text\") # 커서 위치 5번째일때 문자열 추가\n",
    "file.close() # open을 하면 닫아줘야된다"
   ]
  },
  {
   "cell_type": "markdown",
   "metadata": {},
   "source": [
    "# with"
   ]
  },
  {
   "cell_type": "code",
   "execution_count": 34,
   "metadata": {},
   "outputs": [
    {
     "name": "stdout",
     "output_type": "stream",
     "text": [
      "My w+Added Text\n"
     ]
    }
   ],
   "source": [
    "with open(\"sample.txt\", 'r') as f:\n",
    "    content = f.read()\n",
    "    print(content)"
   ]
  },
  {
   "cell_type": "markdown",
   "metadata": {},
   "source": []
  }
 ],
 "metadata": {
  "kernelspec": {
   "display_name": "Python 3",
   "language": "python",
   "name": "python3"
  },
  "language_info": {
   "codemirror_mode": {
    "name": "ipython",
    "version": 3
   },
   "file_extension": ".py",
   "mimetype": "text/x-python",
   "name": "python",
   "nbconvert_exporter": "python",
   "pygments_lexer": "ipython3",
   "version": "3.8.3"
  }
 },
 "nbformat": 4,
 "nbformat_minor": 4
}
